{
 "cells": [
  {
   "cell_type": "code",
   "execution_count": 9,
   "metadata": {},
   "outputs": [],
   "source": [
    "import matplotlib.pyplot as plt\n",
    "from collections import Counter\n",
    "import pandas as pd\n",
    "import random\n"
   ]
  },
  {
   "cell_type": "code",
   "execution_count": 10,
   "metadata": {},
   "outputs": [],
   "source": [
    "def preprocessing(filename):\n",
    "    tokenized_sentences = []\n",
    "\n",
    "    with open(filename, encoding=\"utf-8\") as f:\n",
    "        for line in f:\n",
    "            # Remove non-alphabetical characters\n",
    "            line = ''.join(e for e in line if e.isalpha() or e == ' ')\n",
    "\n",
    "            # Apply white-space tokenization\n",
    "            line = line.split()\n",
    "            tokenized_sentences.append(line)\n",
    "    print(filename[-2:], 'processed')\n",
    "    return tokenized_sentences"
   ]
  },
  {
   "cell_type": "code",
   "execution_count": 12,
   "metadata": {},
   "outputs": [
    {
     "name": "stdout",
     "output_type": "stream",
     "text": [
      "bg processed\n",
      "de processed\n",
      "el processed\n",
      "fi processed\n",
      "fr processed\n",
      "mt processed\n"
     ]
    }
   ],
   "source": [
    "# Preprocess corpora\n",
    "bg_sent = preprocessing('corpora/corpus.bg')\n",
    "de_sent = preprocessing('corpora/corpus.de')\n",
    "el_sent = preprocessing('corpora/corpus.el')\n",
    "fi_sent = preprocessing('corpora/corpus.fi')\n",
    "fr_sent = preprocessing('corpora/corpus.fr')\n",
    "mt_sent = preprocessing('corpora/corpus.mt')\n",
    "\n",
    "# Create a joint dict with languages as keys\n",
    "corpus_dic = {}\n",
    "\n",
    "corpus_dic['bg'] = bg_sent\n",
    "corpus_dic['de'] = de_sent\n",
    "corpus_dic['el'] = el_sent\n",
    "corpus_dic['fi'] = fi_sent\n",
    "corpus_dic['fr'] = fr_sent\n",
    "corpus_dic['mt'] = mt_sent"
   ]
  },
  {
   "cell_type": "code",
   "execution_count": 13,
   "metadata": {},
   "outputs": [],
   "source": [
    "def joint(corpus_dict):\n",
    "    '''\n",
    "\n",
    "    :param corpus_dict: dict, key is a language and value is a corpus represented a nested list where each sublist is a tokenized sentence\n",
    "    :return joint_lists_dic: dict, key is a language and value is a list of tokens(ignore the sentence boundaries)\n",
    "    '''\n",
    "\n",
    "    joint_dic = {}\n",
    "    for k, v in corpus_dict.items():\n",
    "        joint_lists = [j for i in v for j in i]\n",
    "        joint_dic[k] = joint_lists\n",
    "    return joint_dic"
   ]
  },
  {
   "cell_type": "code",
   "execution_count": 14,
   "metadata": {},
   "outputs": [],
   "source": [
    "joint_lists_dic = joint(corpus_dic)"
   ]
  },
  {
   "cell_type": "markdown",
   "metadata": {},
   "source": [
    "# 1.1. Zipfian word distirbution "
   ]
  },
  {
   "cell_type": "code",
   "execution_count": 15,
   "metadata": {},
   "outputs": [],
   "source": [
    "def word_freqs(corpus):\n",
    "\n",
    "    counts = Counter(corpus)\n",
    "    # Sort by descending word frequency\n",
    "    return dict(counts.most_common())"
   ]
  },
  {
   "cell_type": "code",
   "execution_count": 16,
   "metadata": {},
   "outputs": [],
   "source": [
    "# Represent each corpus as a dictionary with words and their frequencies.\n",
    "bulgarian = word_freqs(joint_lists_dic['bg'])\n",
    "german = word_freqs(joint_lists_dic['de'])\n",
    "greek = word_freqs(joint_lists_dic['el'])\n",
    "finnish = word_freqs(joint_lists_dic['fi'])\n",
    "french = word_freqs(joint_lists_dic['fr'])\n",
    "maltese = word_freqs(joint_lists_dic['mt'])"
   ]
  },
  {
   "cell_type": "code",
   "execution_count": 17,
   "metadata": {},
   "outputs": [
    {
     "data": {
      "image/png": "[encoded data removed]",
      "text/plain": [
       "<Figure size 432x288 with 6 Axes>"
      ]
     },
     "metadata": {
      "needs_background": "light"
     },
     "output_type": "display_data"
    }
   ],
   "source": [
    "# Plot the log curves where x-axis represents the word rank and the y-axis represents the word frequency in the corpus.\n",
    "plt.figure(1)\n",
    "# bulgarian\n",
    "plt.subplot(321)\n",
    "plt.loglog(list(range(1, len(bulgarian) + 1)), list(bulgarian.values()))\n",
    "plt.xlabel('Word Rank')\n",
    "plt.ylabel('Frequency')\n",
    "plt.title('Bulgarian')\n",
    "\n",
    "# german\n",
    "plt.subplot(322)\n",
    "plt.loglog(list(range(1, len(german) + 1)), list(german.values()))\n",
    "plt.xlabel('Word Rank')\n",
    "plt.ylabel('Frequency')\n",
    "plt.title('German')\n",
    "\n",
    "# greek\n",
    "plt.subplot(323)\n",
    "plt.loglog(list(range(1, len(greek) + 1)), list(greek.values()))\n",
    "plt.xlabel('Word Rank')\n",
    "plt.ylabel('Frequency')\n",
    "plt.title('Greek')\n",
    "\n",
    "# finnish\n",
    "plt.subplot(324)\n",
    "plt.loglog(list(range(1, len(finnish) + 1)), list(finnish.values()))\n",
    "plt.xlabel('Word Rank')\n",
    "plt.ylabel('Frequency')\n",
    "plt.title('Finnish')\n",
    "\n",
    "# french\n",
    "plt.subplot(325)\n",
    "plt.loglog(list(range(1, len(french) + 1)), list(french.values()))\n",
    "plt.xlabel('Word Rank')\n",
    "plt.ylabel('Frequency')\n",
    "plt.title('French')\n",
    "\n",
    "# maltese\n",
    "plt.subplot(326)\n",
    "plt.loglog(list(range(1, len(maltese) + 1)), list(maltese.values()))\n",
    "plt.xlabel('Word Rank')\n",
    "plt.ylabel('Frequency')\n",
    "plt.title('Maltese')\n",
    "\n",
    "plt.subplots_adjust(wspace=1, hspace=1.5)\n",
    "plt.savefig('words_frequencies', format='eps')\n",
    "plt.show()"
   ]
  },
  {
   "cell_type": "markdown",
   "metadata": {},
   "source": [
    "# 1.2. The Principal of Least Effort"
   ]
  },
  {
   "cell_type": "code",
   "execution_count": 18,
   "metadata": {},
   "outputs": [],
   "source": [
    "def least_effort(dic):\n",
    "    '''\n",
    "    Compare the arithmetic mean of word lengths (measured by the number of characters)\n",
    "    of the top 10 most frequent words against a random sample of 10 words that occur only once in the corpus.\n",
    "\n",
    "    :param dic: dict, containing the words and their frequency in the descending order\n",
    "    :return freq_mean, random_mean: int, defines the arithmetic mean of the word length\n",
    "\n",
    "    '''\n",
    "    # Generates a list of words that occur only once\n",
    "    least_freq = [k for k, v in dic.items() if int(v) == 1]\n",
    "    # Generates a list of the most frequent words in the corpus\n",
    "    top_freq = list(dic.keys())[:10]\n",
    "\n",
    "    # Initialize a counter that sums the length of all words in the list\n",
    "    freq_sum = 0\n",
    "    for word in top_freq:\n",
    "        freq_sum += len(word)\n",
    "    freq_mean = freq_sum / len(top_freq)\n",
    "\n",
    "    random_words = random.sample(least_freq, 10)\n",
    "    random_sum = 0\n",
    "    for word in random_words:\n",
    "        random_sum += len(word)\n",
    "    random_mean = random_sum / len(random_words)\n",
    "\n",
    "    return freq_mean, random_mean"
   ]
  },
  {
   "cell_type": "code",
   "execution_count": 20,
   "metadata": {},
   "outputs": [],
   "source": [
    "# Calculate the arithmetic mean of word lengths: 10 most frequent words vs. 10 random words that occur only once.\n",
    "\n",
    "bg_freq_mean, bg_random_mean = least_effort(bulgarian)\n",
    "german_freq_mean, bg_random_mean = least_effort(german)\n",
    "greek_freq_mean, bg_random_mean = least_effort(greek)\n",
    "finnish_freq_mean, bg_random_mean = least_effort(finnish)\n",
    "french_freq_mean, bg_random_mean = least_effort(french)\n",
    "maltese_freq_mean, bg_random_mean = least_effort(maltese)"
   ]
  },
  {
   "cell_type": "code",
   "execution_count": 22,
   "metadata": {},
   "outputs": [
    {
     "name": "stdout",
     "output_type": "stream",
     "text": [
      "Average Word Lengths of Most Frequent Words vs Random Words\n",
      "   Bulgarian  German  Greek  Finnish  French  Maltese\n",
      "0        1.6     3.0    2.7      4.5     2.1      3.1\n",
      "1        9.4    14.8   12.0     14.8     8.7      8.7\n"
     ]
    }
   ],
   "source": [
    "# #Plot the table\n",
    "    \n",
    "avg_wordlengths = {'Bulgarian': list(least_effort(bulgarian)), 'German': list(least_effort(german)), 'Greek': list(least_effort(greek)), 'Finnish': list(least_effort(finnish)), 'French': list(least_effort(french)), 'Maltese': list(least_effort(maltese))}\n",
    "print('Average Word Lengths of Most Frequent Words vs Random Words')\n",
    "data = avg_wordlengths\n",
    "print(pd.DataFrame(data))"
   ]
  },
  {
   "cell_type": "markdown",
   "metadata": {},
   "source": [
    "# 1.3. Zipfian character distribution"
   ]
  },
  {
   "cell_type": "code",
   "execution_count": 6,
   "metadata": {},
   "outputs": [],
   "source": [
    "def char_freqs(corpus):\n",
    "    # Exclude white-space\n",
    "    corp = \"\".join(corpus)\n",
    "    counts = Counter(corp)\n",
    "    return dict(counts.most_common())"
   ]
  },
  {
   "cell_type": "code",
   "execution_count": 7,
   "metadata": {},
   "outputs": [],
   "source": [
    "def plotting(corpus):\n",
    "    '''\n",
    "    Plot the table.\n",
    "    '''\n",
    "    char_list = [x[0] for x in list(corpus.items())[:10]]\n",
    "    rel_freq = [v / sum(corpus.values()) for v in list(corpus.values())[:10]]\n",
    "    return char_list, rel_freq"
   ]
  },
  {
   "cell_type": "code",
   "execution_count": 8,
   "metadata": {},
   "outputs": [
    {
     "name": "stdout",
     "output_type": "stream",
     "text": [
      "bg processed\n",
      "de processed\n",
      "el processed\n",
      "fi processed\n",
      "fr processed\n",
      "mt processed\n"
     ]
    },
    {
     "data": {
      "image/png": "[encoded data removed]",
      "text/plain": [
       "<Figure size 432x288 with 6 Axes>"
      ]
     },
     "metadata": {
      "needs_background": "light"
     },
     "output_type": "display_data"
    },
    {
     "name": "stdout",
     "output_type": "stream",
     "text": [
      "Average Word Lengths of Most Frequent Words vs Random Words\n",
      "   Bulgarian  German  Greek  Finnish  French  Maltese\n",
      "0        1.6     3.0    2.7      4.5     2.1      3.1\n",
      "1       10.7    14.0    9.8     12.1    11.8      9.5\n"
     ]
    },
    {
     "data": {
      "image/png": "[encoded data removed]",
      "text/plain": [
       "<Figure size 432x288 with 6 Axes>"
      ]
     },
     "metadata": {
      "needs_background": "light"
     },
     "output_type": "display_data"
    },
    {
     "name": "stdout",
     "output_type": "stream",
     "text": [
      "10 most frequent letters in descending order by language\n",
      "  Bulgarian  Rel Freq\n",
      "0         а  0.112874\n",
      "1         и  0.090045\n",
      "2         е  0.086759\n",
      "3         о  0.085420\n",
      "4         н  0.078873\n",
      "5         т  0.074931\n",
      "6         р  0.052149\n",
      "7         с  0.046080\n",
      "8         в  0.042197\n",
      "9         л  0.030094\n",
      "  German  Rel Freq\n",
      "0      e  0.152147\n",
      "1      n  0.099032\n",
      "2      i  0.073047\n",
      "3      r  0.072438\n",
      "4      s  0.059699\n",
      "5      t  0.057428\n",
      "6      d  0.047368\n",
      "7      a  0.043793\n",
      "8      u  0.039078\n",
      "9      h  0.033394\n",
      "  Greek  Rel Freq\n",
      "0     α  0.084483\n",
      "1     ο  0.077917\n",
      "2     τ  0.077149\n",
      "3     ι  0.063761\n",
      "4     ε  0.057009\n",
      "5     ν  0.056128\n",
      "6     ρ  0.045705\n",
      "7     σ  0.045404\n",
      "8     η  0.042845\n",
      "9     π  0.039347\n",
      "  Finnish  Rel Freq\n",
      "0       a  0.112151\n",
      "1       t  0.104702\n",
      "2       i  0.099518\n",
      "3       s  0.080994\n",
      "4       e  0.080989\n",
      "5       n  0.080642\n",
      "6       o  0.057281\n",
      "7       l  0.049662\n",
      "8       u  0.047984\n",
      "9       k  0.045367\n",
      "  French  Rel Freq\n",
      "0      e  0.132688\n",
      "1      n  0.076254\n",
      "2      s  0.074197\n",
      "3      i  0.073525\n",
      "4      t  0.073239\n",
      "5      a  0.070900\n",
      "6      r  0.066041\n",
      "7      o  0.058570\n",
      "8      u  0.049291\n",
      "9      l  0.048326\n",
      "  Maltese  Rel Freq\n",
      "0       i  0.118570\n",
      "1       a  0.110101\n",
      "2       t  0.088933\n",
      "3       l  0.069344\n",
      "4       n  0.056493\n",
      "5       e  0.056086\n",
      "6       r  0.051561\n",
      "7       o  0.042665\n",
      "8       u  0.038107\n",
      "9       j  0.036092\n"
     ]
    }
   ],
   "source": [
    "# Represent each corpus as a dictionary with characters and their frequencies.\n",
    "    \n",
    "bulgarian_char_counts = char_freqs(joint_lists_dic['bg'])\n",
    "german_char_counts = char_freqs(joint_lists_dic['de'])\n",
    "greek_char_counts = char_freqs(joint_lists_dic['el'])\n",
    "finnish_char_counts = char_freqs(joint_lists_dic['fi'])\n",
    "french_char_counts = char_freqs(joint_lists_dic['fr'])\n",
    "maltese_char_counts = char_freqs(joint_lists_dic['mt'])\n"
   ]
  },
  {
   "cell_type": "code",
   "execution_count": null,
   "metadata": {},
   "outputs": [],
   "source": [
    "\n",
    "# Plot the log curves where x-axis represents the word rank and the y-axis represents the word frequency in the corpus.\n",
    "\n",
    "plt.figure(1)\n",
    "\n",
    "# bulgarian\n",
    "plt.subplot(321)\n",
    "plt.loglog(list(range(1, len(bulgarian_char_counts) + 1)), list(bulgarian_char_counts.values()))\n",
    "plt.xlabel('Chararter Rank')\n",
    "plt.ylabel('Frequency')\n",
    "plt.title('Bulgarian')\n",
    "\n",
    "# german\n",
    "plt.subplot(322)\n",
    "plt.loglog(list(range(1, len(german_char_counts) + 1)), list(german_char_counts.values()))\n",
    "plt.xlabel('Chararter Rank')\n",
    "plt.ylabel('Frequency')\n",
    "plt.title('German')\n",
    "\n",
    "# greek\n",
    "plt.subplot(323)\n",
    "plt.loglog(list(range(1, len(greek_char_counts) + 1)), list(greek_char_counts.values()))\n",
    "plt.xlabel('Chararter Rank')\n",
    "plt.ylabel('Frequency')\n",
    "plt.title('Greek')\n",
    "\n",
    "# finnish\n",
    "plt.subplot(324)\n",
    "plt.loglog(list(range(1, len(finnish_char_counts) + 1)), list(finnish_char_counts.values()))\n",
    "plt.xlabel('Chararter Rank')\n",
    "plt.ylabel('Frequency')\n",
    "plt.title('Finnish')\n",
    "\n",
    "# french\n",
    "plt.subplot(325)\n",
    "plt.loglog(list(range(1, len(french_char_counts) + 1)), list(french_char_counts.values()))\n",
    "plt.xlabel('Chararter Rank')\n",
    "plt.ylabel('Frequency')\n",
    "plt.title('French')\n",
    "\n",
    "# maltese\n",
    "plt.subplot(326)\n",
    "plt.loglog(list(range(1, len(maltese_char_counts) + 1)), list(maltese_char_counts.values()))\n",
    "plt.xlabel('Chararter Rank')\n",
    "plt.ylabel('Frequency')\n",
    "plt.title('Maltese')\n",
    "\n",
    "plt.subplots_adjust(wspace = 1, hspace = 1.5)\n",
    "plt.savefig('char_frequencies', format='eps')\n",
    "plt.show()\n"
   ]
  },
  {
   "cell_type": "code",
   "execution_count": null,
   "metadata": {},
   "outputs": [],
   "source": [
    "# Computes the list of characters and their relative frequencies\n",
    "\n",
    "bg_char_list, bg_char_rel_freq = plotting(bulgarian_char_counts)\n",
    "de_char_list, de_char_rel_freq = plotting(german_char_counts)\n",
    "el_char_list, el_char_rel_freq = plotting(greek_char_counts)\n",
    "fi_char_list, fi_char_rel_freq = plotting(finnish_char_counts)\n",
    "fr_char_list, fr_char_rel_freq = plotting(french_char_counts)\n",
    "mt_char_list, mt_char_rel_freq = plotting(maltese_char_counts)"
   ]
  },
  {
   "cell_type": "code",
   "execution_count": null,
   "metadata": {},
   "outputs": [],
   "source": [
    "# Plot the table\n",
    "print('10 most frequent letters in descending order by language')\n",
    "\n",
    "bg = {'Bulgarian': bg_char_list, 'Rel Freq': bg_char_rel_freq}\n",
    "print(pd.DataFrame(bg))\n",
    "\n",
    "de = {'German': de_char_list, 'Rel Freq': de_char_rel_freq}\n",
    "print(pd.DataFrame(de))\n",
    "\n",
    "el = {'Greek': el_char_list, 'Rel Freq': el_char_rel_freq}\n",
    "print(pd.DataFrame(el))\n",
    "\n",
    "fi = {'Finnish': fi_char_list, 'Rel Freq': fi_char_rel_freq}\n",
    "print(pd.DataFrame(fi))\n",
    "\n",
    "fr = {'French': fr_char_list, 'Rel Freq': fr_char_rel_freq}\n",
    "print(pd.DataFrame(fr))\n",
    "\n",
    "mt = {'Maltese': mt_char_list, 'Rel Freq': mt_char_rel_freq}\n",
    "print(pd.DataFrame(mt))"
   ]
  }
 ],
 "metadata": {
  "kernelspec": {
   "display_name": "Python 3",
   "language": "python",
   "name": "python3"
  },
  "language_info": {
   "codemirror_mode": {
    "name": "ipython",
    "version": 3
   },
   "file_extension": ".py",
   "mimetype": "text/x-python",
   "name": "python",
   "nbconvert_exporter": "python",
   "pygments_lexer": "ipython3",
   "version": "3.7.3"
  }
 },
 "nbformat": 4,
 "nbformat_minor": 2
}
